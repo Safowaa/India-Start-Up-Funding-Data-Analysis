{
 "cells": [
  {
   "cell_type": "code",
   "execution_count": 1,
   "metadata": {},
   "outputs": [
    {
     "name": "stdout",
     "output_type": "stream",
     "text": [
      "Collecting pyodbc\n",
      "  Downloading pyodbc-5.1.0-cp310-cp310-win_amd64.whl.metadata (2.8 kB)\n",
      "Downloading pyodbc-5.1.0-cp310-cp310-win_amd64.whl (68 kB)\n",
      "   ---------------------------------------- 0.0/68.7 kB ? eta -:--:--\n",
      "   ----- ---------------------------------- 10.2/68.7 kB ? eta -:--:--\n",
      "   ----- ---------------------------------- 10.2/68.7 kB ? eta -:--:--\n",
      "   ----- ---------------------------------- 10.2/68.7 kB ? eta -:--:--\n",
      "   ----- ---------------------------------- 10.2/68.7 kB ? eta -:--:--\n",
      "   ----- ---------------------------------- 10.2/68.7 kB ? eta -:--:--\n",
      "   ----- ---------------------------------- 10.2/68.7 kB ? eta -:--:--\n",
      "   ----- ---------------------------------- 10.2/68.7 kB ? eta -:--:--\n",
      "   ----------------- ---------------------- 30.7/68.7 kB 62.4 kB/s eta 0:00:01\n",
      "   ----------------- ---------------------- 30.7/68.7 kB 62.4 kB/s eta 0:00:01\n",
      "   ----------------- ---------------------- 30.7/68.7 kB 62.4 kB/s eta 0:00:01\n",
      "   ----------------- ---------------------- 30.7/68.7 kB 62.4 kB/s eta 0:00:01\n",
      "   ----------------- ---------------------- 30.7/68.7 kB 62.4 kB/s eta 0:00:01\n",
      "   ----------------- ---------------------- 30.7/68.7 kB 62.4 kB/s eta 0:00:01\n",
      "   ----------------------------------- ---- 61.4/68.7 kB 81.9 kB/s eta 0:00:01\n",
      "   ---------------------------------------- 68.7/68.7 kB 87.2 kB/s eta 0:00:00\n",
      "Installing collected packages: pyodbc\n",
      "Successfully installed pyodbc-5.1.0\n",
      "Note: you may need to restart the kernel to use updated packages.\n"
     ]
    }
   ],
   "source": [
    "\n",
    "pip install pydoc\n"
   ]
  },
  {
   "cell_type": "code",
   "execution_count": 1,
   "metadata": {},
   "outputs": [
    {
     "name": "stdout",
     "output_type": "stream",
     "text": [
      "Requirement already satisfied: python-dotenv in c:\\users\\safowaa\\appdata\\local\\packages\\pythonsoftwarefoundation.python.3.10_qbz5n2kfra8p0\\localcache\\local-packages\\python310\\site-packages (1.0.1)\n",
      "Note: you may need to restart the kernel to use updated packages.\n"
     ]
    }
   ],
   "source": [
    "pip install python-dotenv "
   ]
  },
  {
   "cell_type": "code",
   "execution_count": 1,
   "metadata": {},
   "outputs": [],
   "source": [
    "import pydoc \n",
    "#import the dotenv_values function from the dotenv package  \n",
    "from dotenv import dotenv_values    \n",
    "import pandas as pd\n",
    "import warnings \n",
    "# Ignore warning due to depreciating packages\n",
    "warnings.filterwarnings('ignore')"
   ]
  },
  {
   "cell_type": "code",
   "execution_count": null,
   "metadata": {},
   "outputs": [],
   "source": [
    "server=\"dap-projects-database.database.windows.net\"\n",
    "Login=\"LP1_learner\"\n",
    "password=\"Hypoth3s!$T3$t!ng\"\n",
    "database=\"dapDB\""
   ]
  },
  {
   "cell_type": "code",
   "execution_count": 2,
   "metadata": {},
   "outputs": [],
   "source": [
    "# Load environment variables from .env file into a dictionary\n",
    "environment_variables = dotenv_values('.env')\n",
    "\n",
    "# Get the values for the credentials you set in the '.env' file\n",
    "server = environment_variables.get(\"server\")\n",
    "database = environment_variables.get(\"database\")\n",
    "username = environment_variables.get(\"Login\")\n",
    "password = environment_variables.get(\"password\")"
   ]
  }
 ],
 "metadata": {
  "kernelspec": {
   "display_name": "Python 3",
   "language": "python",
   "name": "python3"
  },
  "language_info": {
   "codemirror_mode": {
    "name": "ipython",
    "version": 3
   },
   "file_extension": ".py",
   "mimetype": "text/x-python",
   "name": "python",
   "nbconvert_exporter": "python",
   "pygments_lexer": "ipython3",
   "version": "3.10.11"
  }
 },
 "nbformat": 4,
 "nbformat_minor": 2
}
