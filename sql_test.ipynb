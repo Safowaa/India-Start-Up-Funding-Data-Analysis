{
 "cells": [
  {
   "cell_type": "code",
   "execution_count": 1,
   "metadata": {},
   "outputs": [
    {
     "name": "stdout",
     "output_type": "stream",
     "text": [
      "Server: dap-projects-database.database.windows.net\n",
      "Database: dapDB\n",
      "Username: LP1_learner\n",
      "Connection String: DRIVER={SQL Server};SERVER=dap-projects-database.database.windows.net;DATABASE=dapDB;UID=LP1_learner;PWD=Hypoth3s!$T3$t!ng;MARS_Connection=yes;MinProtocolVersion=TLSv1.2;\n",
      "Error connecting to the database: [28000] [Microsoft][ODBC SQL Server Driver][SQL Server]Login failed for user 'LP1_learner'. (18456) (SQLDriverConnect); [28000] [Microsoft][ODBC SQL Server Driver]Invalid connection string attribute (0); [28000] [Microsoft][ODBC SQL Server Driver][SQL Server]Login failed for user 'LP1_learner'. (18456); [28000] [Microsoft][ODBC SQL Server Driver]Invalid connection string attribute (0)\n"
     ]
    }
   ],
   "source": [
    "import pyodbc\n",
    "from dotenv import dotenv_values\n",
    "\n",
    "# Load environment variables from .env file into a dictionary\n",
    "environment_variables = dotenv_values('.env')\n",
    "\n",
    "# Get the values for the credentials you set in the '.env' file\n",
    "server = environment_variables.get(\"server\")\n",
    "database = environment_variables.get(\"database\")\n",
    "username = environment_variables.get(\"Login\")\n",
    "password = environment_variables.get(\"password\")\n",
    "\n",
    "# Check if all variables are loaded correctly\n",
    "if not all([server, database, username, password]):\n",
    "    raise ValueError(\"One or more environment variables are missing. Please check your .env file.\")\n",
    "\n",
    "# Print variables to ensure they are loaded correctly (for debugging purposes)\n",
    "print(f\"Server: {server}\")\n",
    "print(f\"Database: {database}\")\n",
    "print(f\"Username: {username}\")\n",
    "\n",
    "# Create a connection string\n",
    "connection_string = f\"DRIVER={{SQL Server}};SERVER={server};DATABASE={database};UID={username};PWD={password};MARS_Connection=yes;MinProtocolVersion=TLSv1.2;\"\n",
    "\n",
    "# Print connection string (for debugging purposes)\n",
    "print(f\"Connection String: {connection_string}\")\n",
    "\n",
    "# Connect to the database\n",
    "try:\n",
    "    connection = pyodbc.connect(connection_string)\n",
    "    print(\"Connection successful\")\n",
    "except pyodbc.Error as ex:\n",
    "    sqlstate = ex.args[1]\n",
    "    print(f\"Error connecting to the database: {sqlstate}\")\n"
   ]
  },
  {
   "cell_type": "code",
   "execution_count": 1,
   "metadata": {},
   "outputs": [
    {
     "name": "stdout",
     "output_type": "stream",
     "text": [
      "Server: dap-projects-database.database.windows.net\n",
      "Database: dapDB\n",
      "Username: LP1_learner\n",
      "Connection String: DRIVER={SQL Server};SERVER=dap-projects-database.database.windows.net;DATABASE=dapDB;UID=LP1_learner;PWD=Hypoth3s!$T3$t!ng;\n",
      "Error connecting to the database: [28000] [Microsoft][ODBC SQL Server Driver][SQL Server]Login failed for user 'LP1_learner'. (18456) (SQLDriverConnect); [28000] [Microsoft][ODBC SQL Server Driver][SQL Server]Login failed for user 'LP1_learner'. (18456)\n"
     ]
    }
   ],
   "source": [
    "import pyodbc\n",
    "from dotenv import dotenv_values\n",
    "\n",
    "# Load environment variables from .env file into a dictionary\n",
    "environment_variables = dotenv_values('.env')\n",
    "\n",
    "# Get the values for the credentials you set in the '.env' file\n",
    "server = environment_variables.get(\"server\")\n",
    "database = environment_variables.get(\"database\")\n",
    "username = environment_variables.get(\"Login\")\n",
    "password = environment_variables.get(\"password\")\n",
    "\n",
    "# Check if all variables are loaded correctly\n",
    "if not all([server, database, username, password]):\n",
    "    raise ValueError(\"One or more environment variables are missing. Please check your .env file.\")\n",
    "\n",
    "# Print variables to ensure they are loaded correctly (for debugging purposes)\n",
    "print(f\"Server: {server}\")\n",
    "print(f\"Database: {database}\")\n",
    "print(f\"Username: {username}\")\n",
    "\n",
    "# Create a connection string without additional attributes\n",
    "connection_string = f\"DRIVER={{SQL Server}};SERVER={server};DATABASE={database};UID={username};PWD={password};\"\n",
    "\n",
    "# Print connection string (for debugging purposes)\n",
    "print(f\"Connection String: {connection_string}\")\n",
    "\n",
    "# Connect to the database\n",
    "try:\n",
    "    connection = pyodbc.connect(connection_string)\n",
    "    print(\"Connection successful\")\n",
    "except pyodbc.Error as ex:\n",
    "    sqlstate = ex.args[1]\n",
    "    print(f\"Error connecting to the database: {sqlstate}\")\n"
   ]
  }
 ],
 "metadata": {
  "kernelspec": {
   "display_name": "Python 3",
   "language": "python",
   "name": "python3"
  },
  "language_info": {
   "codemirror_mode": {
    "name": "ipython",
    "version": 3
   },
   "file_extension": ".py",
   "mimetype": "text/x-python",
   "name": "python",
   "nbconvert_exporter": "python",
   "pygments_lexer": "ipython3",
   "version": "3.10.11"
  }
 },
 "nbformat": 4,
 "nbformat_minor": 2
}
